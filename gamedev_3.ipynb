{
 "cells": [
  {
   "cell_type": "markdown",
   "metadata": {},
   "source": [
    "# PROJECT. Исследование поведения пользователей в приложении \n",
    "## В рамках этого исследования необходимо проверить:\n",
    "- есть ли зависимость между выбранным уровнем сложности вопросов и вероятностью оплаты пакетов вопросов;\n",
    "- различается ли временной промежуток между регистрацией и оплатой у групп пользователей с разным уровнем сложности."
   ]
  },
  {
   "cell_type": "markdown",
   "metadata": {},
   "source": [
    "Загружаем csv-файлы 7_4_Events.csv и purchase.csv, содержащие информацию  о событиях и оплатах, которые совершают пользователи."
   ]
  },
  {
   "cell_type": "code",
   "execution_count": 173,
   "metadata": {},
   "outputs": [
    {
     "data": {
      "text/html": [
       "<div>\n",
       "<style scoped>\n",
       "    .dataframe tbody tr th:only-of-type {\n",
       "        vertical-align: middle;\n",
       "    }\n",
       "\n",
       "    .dataframe tbody tr th {\n",
       "        vertical-align: top;\n",
       "    }\n",
       "\n",
       "    .dataframe thead th {\n",
       "        text-align: right;\n",
       "    }\n",
       "</style>\n",
       "<table border=\"1\" class=\"dataframe\">\n",
       "  <thead>\n",
       "    <tr style=\"text-align: right;\">\n",
       "      <th></th>\n",
       "      <th>id</th>\n",
       "      <th>event_type</th>\n",
       "      <th>selected_level</th>\n",
       "      <th>start_time</th>\n",
       "      <th>tutorial_id</th>\n",
       "      <th>user_id</th>\n",
       "    </tr>\n",
       "  </thead>\n",
       "  <tbody>\n",
       "    <tr>\n",
       "      <th>0</th>\n",
       "      <td>28903</td>\n",
       "      <td>registration</td>\n",
       "      <td>NaN</td>\n",
       "      <td>2016-05-11T23:40:55</td>\n",
       "      <td>NaN</td>\n",
       "      <td>12583</td>\n",
       "    </tr>\n",
       "    <tr>\n",
       "      <th>1</th>\n",
       "      <td>28904</td>\n",
       "      <td>registration</td>\n",
       "      <td>NaN</td>\n",
       "      <td>2016-05-11T23:49:58</td>\n",
       "      <td>NaN</td>\n",
       "      <td>12584</td>\n",
       "    </tr>\n",
       "    <tr>\n",
       "      <th>2</th>\n",
       "      <td>28905</td>\n",
       "      <td>registration</td>\n",
       "      <td>NaN</td>\n",
       "      <td>2016-05-12T00:53:07</td>\n",
       "      <td>NaN</td>\n",
       "      <td>12585</td>\n",
       "    </tr>\n",
       "    <tr>\n",
       "      <th>3</th>\n",
       "      <td>28906</td>\n",
       "      <td>tutorial_start</td>\n",
       "      <td>NaN</td>\n",
       "      <td>2016-05-12T01:32:20</td>\n",
       "      <td>17562.0</td>\n",
       "      <td>12585</td>\n",
       "    </tr>\n",
       "    <tr>\n",
       "      <th>4</th>\n",
       "      <td>28907</td>\n",
       "      <td>tutorial_finish</td>\n",
       "      <td>NaN</td>\n",
       "      <td>2016-05-12T01:34:53</td>\n",
       "      <td>17562.0</td>\n",
       "      <td>12585</td>\n",
       "    </tr>\n",
       "    <tr>\n",
       "      <th>5</th>\n",
       "      <td>28908</td>\n",
       "      <td>tutorial_start</td>\n",
       "      <td>NaN</td>\n",
       "      <td>2016-05-12T02:11:29</td>\n",
       "      <td>17563.0</td>\n",
       "      <td>12584</td>\n",
       "    </tr>\n",
       "    <tr>\n",
       "      <th>6</th>\n",
       "      <td>28909</td>\n",
       "      <td>tutorial_finish</td>\n",
       "      <td>NaN</td>\n",
       "      <td>2016-05-12T02:14:14</td>\n",
       "      <td>17563.0</td>\n",
       "      <td>12584</td>\n",
       "    </tr>\n",
       "    <tr>\n",
       "      <th>7</th>\n",
       "      <td>28910</td>\n",
       "      <td>level_choice</td>\n",
       "      <td>hard</td>\n",
       "      <td>2016-05-12T05:30:25</td>\n",
       "      <td>NaN</td>\n",
       "      <td>12584</td>\n",
       "    </tr>\n",
       "    <tr>\n",
       "      <th>8</th>\n",
       "      <td>28911</td>\n",
       "      <td>pack_choice</td>\n",
       "      <td>NaN</td>\n",
       "      <td>2016-05-12T05:38:24</td>\n",
       "      <td>NaN</td>\n",
       "      <td>12584</td>\n",
       "    </tr>\n",
       "    <tr>\n",
       "      <th>9</th>\n",
       "      <td>28912</td>\n",
       "      <td>tutorial_start</td>\n",
       "      <td>NaN</td>\n",
       "      <td>2016-05-12T07:19:01</td>\n",
       "      <td>17564.0</td>\n",
       "      <td>12583</td>\n",
       "    </tr>\n",
       "  </tbody>\n",
       "</table>\n",
       "</div>"
      ],
      "text/plain": [
       "      id       event_type selected_level           start_time  tutorial_id  \\\n",
       "0  28903     registration            NaN  2016-05-11T23:40:55          NaN   \n",
       "1  28904     registration            NaN  2016-05-11T23:49:58          NaN   \n",
       "2  28905     registration            NaN  2016-05-12T00:53:07          NaN   \n",
       "3  28906   tutorial_start            NaN  2016-05-12T01:32:20      17562.0   \n",
       "4  28907  tutorial_finish            NaN  2016-05-12T01:34:53      17562.0   \n",
       "5  28908   tutorial_start            NaN  2016-05-12T02:11:29      17563.0   \n",
       "6  28909  tutorial_finish            NaN  2016-05-12T02:14:14      17563.0   \n",
       "7  28910     level_choice           hard  2016-05-12T05:30:25          NaN   \n",
       "8  28911      pack_choice            NaN  2016-05-12T05:38:24          NaN   \n",
       "9  28912   tutorial_start            NaN  2016-05-12T07:19:01      17564.0   \n",
       "\n",
       "   user_id  \n",
       "0    12583  \n",
       "1    12584  \n",
       "2    12585  \n",
       "3    12585  \n",
       "4    12585  \n",
       "5    12584  \n",
       "6    12584  \n",
       "7    12584  \n",
       "8    12584  \n",
       "9    12583  "
      ]
     },
     "execution_count": 173,
     "metadata": {},
     "output_type": "execute_result"
    }
   ],
   "source": [
    "import pandas as pd\n",
    "events_df = pd.read_csv('data/game/7_4_Events.csv', sep = ',')\n",
    "# выведем первые 10 строк датафрейма events_df, чтобы ознакомиться с данными\n",
    "events_df.head(10)"
   ]
  },
  {
   "cell_type": "code",
   "execution_count": 174,
   "metadata": {},
   "outputs": [
    {
     "name": "stdout",
     "output_type": "stream",
     "text": [
      "<class 'pandas.core.frame.DataFrame'>\n",
      "RangeIndex: 252334 entries, 0 to 252333\n",
      "Data columns (total 6 columns):\n",
      " #   Column          Non-Null Count   Dtype  \n",
      "---  ------          --------------   -----  \n",
      " 0   id              252334 non-null  int64  \n",
      " 1   event_type      252334 non-null  object \n",
      " 2   selected_level  31086 non-null   object \n",
      " 3   start_time      252334 non-null  object \n",
      " 4   tutorial_id     125103 non-null  float64\n",
      " 5   user_id         252334 non-null  int64  \n",
      "dtypes: float64(1), int64(2), object(3)\n",
      "memory usage: 11.6+ MB\n"
     ]
    }
   ],
   "source": [
    "# получим общую информацию о датафрейме, для того чтобы оценить, \n",
    "# какие данные содержатся в датафрейме events_df\n",
    "events_df.info() "
   ]
  },
  {
   "cell_type": "markdown",
   "metadata": {},
   "source": [
    "Датафрейм events_df содержит 252334 строки и шесть столбцов. При этом все строки содержат значения в столбцах id, user_id, start_time, event_type, а столбцы selected_level и  tutorial_id содержат пропущенные значения.\n",
    "Столбец start_time имеет тип данных object и для дальнейшего исследования нам необходимо будет перевести его в тип данных datetime."
   ]
  },
  {
   "cell_type": "code",
   "execution_count": 175,
   "metadata": {},
   "outputs": [
    {
     "data": {
      "text/html": [
       "<div>\n",
       "<style scoped>\n",
       "    .dataframe tbody tr th:only-of-type {\n",
       "        vertical-align: middle;\n",
       "    }\n",
       "\n",
       "    .dataframe tbody tr th {\n",
       "        vertical-align: top;\n",
       "    }\n",
       "\n",
       "    .dataframe thead th {\n",
       "        text-align: right;\n",
       "    }\n",
       "</style>\n",
       "<table border=\"1\" class=\"dataframe\">\n",
       "  <thead>\n",
       "    <tr style=\"text-align: right;\">\n",
       "      <th></th>\n",
       "      <th>id</th>\n",
       "      <th>user_id</th>\n",
       "      <th>event_datetime</th>\n",
       "      <th>amount</th>\n",
       "    </tr>\n",
       "  </thead>\n",
       "  <tbody>\n",
       "    <tr>\n",
       "      <th>0</th>\n",
       "      <td>15674</td>\n",
       "      <td>12584</td>\n",
       "      <td>2016-05-12T10:34:16</td>\n",
       "      <td>100</td>\n",
       "    </tr>\n",
       "    <tr>\n",
       "      <th>1</th>\n",
       "      <td>15675</td>\n",
       "      <td>12985</td>\n",
       "      <td>2016-05-13T08:25:56</td>\n",
       "      <td>50</td>\n",
       "    </tr>\n",
       "    <tr>\n",
       "      <th>2</th>\n",
       "      <td>15676</td>\n",
       "      <td>12828</td>\n",
       "      <td>2016-05-13T16:33:46</td>\n",
       "      <td>50</td>\n",
       "    </tr>\n",
       "    <tr>\n",
       "      <th>3</th>\n",
       "      <td>15677</td>\n",
       "      <td>12598</td>\n",
       "      <td>2016-05-14T01:09:37</td>\n",
       "      <td>150</td>\n",
       "    </tr>\n",
       "    <tr>\n",
       "      <th>4</th>\n",
       "      <td>15678</td>\n",
       "      <td>13037</td>\n",
       "      <td>2016-05-14T01:24:46</td>\n",
       "      <td>100</td>\n",
       "    </tr>\n",
       "    <tr>\n",
       "      <th>5</th>\n",
       "      <td>15679</td>\n",
       "      <td>12989</td>\n",
       "      <td>2016-05-14T02:19:20</td>\n",
       "      <td>200</td>\n",
       "    </tr>\n",
       "    <tr>\n",
       "      <th>6</th>\n",
       "      <td>15680</td>\n",
       "      <td>12684</td>\n",
       "      <td>2016-05-14T03:10:14</td>\n",
       "      <td>100</td>\n",
       "    </tr>\n",
       "    <tr>\n",
       "      <th>7</th>\n",
       "      <td>15681</td>\n",
       "      <td>12656</td>\n",
       "      <td>2016-05-14T03:42:48</td>\n",
       "      <td>100</td>\n",
       "    </tr>\n",
       "    <tr>\n",
       "      <th>8</th>\n",
       "      <td>15682</td>\n",
       "      <td>12624</td>\n",
       "      <td>2016-05-14T06:00:45</td>\n",
       "      <td>50</td>\n",
       "    </tr>\n",
       "    <tr>\n",
       "      <th>9</th>\n",
       "      <td>15683</td>\n",
       "      <td>13136</td>\n",
       "      <td>2016-05-14T07:31:03</td>\n",
       "      <td>50</td>\n",
       "    </tr>\n",
       "  </tbody>\n",
       "</table>\n",
       "</div>"
      ],
      "text/plain": [
       "      id  user_id       event_datetime  amount\n",
       "0  15674    12584  2016-05-12T10:34:16     100\n",
       "1  15675    12985  2016-05-13T08:25:56      50\n",
       "2  15676    12828  2016-05-13T16:33:46      50\n",
       "3  15677    12598  2016-05-14T01:09:37     150\n",
       "4  15678    13037  2016-05-14T01:24:46     100\n",
       "5  15679    12989  2016-05-14T02:19:20     200\n",
       "6  15680    12684  2016-05-14T03:10:14     100\n",
       "7  15681    12656  2016-05-14T03:42:48     100\n",
       "8  15682    12624  2016-05-14T06:00:45      50\n",
       "9  15683    13136  2016-05-14T07:31:03      50"
      ]
     },
     "execution_count": 175,
     "metadata": {},
     "output_type": "execute_result"
    }
   ],
   "source": [
    "purchase_df = pd.read_csv('data/game/purchase.csv', sep = ',')\n",
    "# выведем первые 10 строк датафрейма purchase_df, чтобы ознакомиться с данными\n",
    "purchase_df.head(10)\n"
   ]
  },
  {
   "cell_type": "code",
   "execution_count": 176,
   "metadata": {},
   "outputs": [
    {
     "name": "stdout",
     "output_type": "stream",
     "text": [
      "<class 'pandas.core.frame.DataFrame'>\n",
      "RangeIndex: 5956 entries, 0 to 5955\n",
      "Data columns (total 4 columns):\n",
      " #   Column          Non-Null Count  Dtype \n",
      "---  ------          --------------  ----- \n",
      " 0   id              5956 non-null   int64 \n",
      " 1   user_id         5956 non-null   int64 \n",
      " 2   event_datetime  5956 non-null   object\n",
      " 3   amount          5956 non-null   int64 \n",
      "dtypes: int64(3), object(1)\n",
      "memory usage: 186.2+ KB\n"
     ]
    }
   ],
   "source": [
    "# получим общую информацию о датафрейме, для того чтобы оценить, \n",
    "# какие данные содержатся в датафрейме purchase_df\n",
    "purchase_df.info()"
   ]
  },
  {
   "cell_type": "markdown",
   "metadata": {},
   "source": [
    "Датафрейм не содержит пропусков, вся информация содержится в 4 столбцах id, user_id, event_datetime, amount. Для дальнейшего исследования нам необходимо будет перевести столбец event_datetime в тип datetime."
   ]
  },
  {
   "cell_type": "code",
   "execution_count": 177,
   "metadata": {},
   "outputs": [
    {
     "name": "stdout",
     "output_type": "stream",
     "text": [
      "<class 'pandas.core.frame.DataFrame'>\n",
      "Int64Index: 66959 entries, 51405 to 118364\n",
      "Data columns (total 6 columns):\n",
      " #   Column          Non-Null Count  Dtype         \n",
      "---  ------          --------------  -----         \n",
      " 0   id              66959 non-null  int64         \n",
      " 1   event_type      66959 non-null  object        \n",
      " 2   selected_level  8342 non-null   object        \n",
      " 3   start_time      66959 non-null  datetime64[ns]\n",
      " 4   tutorial_id     32954 non-null  float64       \n",
      " 5   user_id         66959 non-null  int64         \n",
      "dtypes: datetime64[ns](1), float64(1), int64(2), object(2)\n",
      "memory usage: 3.6+ MB\n"
     ]
    },
    {
     "name": "stderr",
     "output_type": "stream",
     "text": [
      "C:\\Users\\123\\AppData\\Local\\Programs\\Python\\Python39\\lib\\site-packages\\pandas\\core\\generic.py:5516: SettingWithCopyWarning: \n",
      "A value is trying to be set on a copy of a slice from a DataFrame.\n",
      "Try using .loc[row_indexer,col_indexer] = value instead\n",
      "\n",
      "See the caveats in the documentation: https://pandas.pydata.org/pandas-docs/stable/user_guide/indexing.html#returning-a-view-versus-a-copy\n",
      "  self[name] = value\n"
     ]
    }
   ],
   "source": [
    "# Делаем выборку пользователей, зарегистрировавшихся 2018 году \n",
    "cond = (events_df.start_time>='2018-01-01') & (events_df.start_time<'2019-01-01') & (events_df.event_type=='registration')\n",
    "# Список пользователей, зарегистрировавшихся в 2018\n",
    "registered = events_df[cond]['user_id'].to_list() \n",
    "# Сохраняем полученный срез в переменную event\n",
    "events = events_df[events_df.user_id.isin(registered)]\n",
    "# Преобразуем тип данных столбца start_time в datetime\n",
    "events.start_time = pd.to_datetime(events.start_time, format='%Y-%m-%dT%H:%M:%S') \n",
    "events.info()"
   ]
  },
  {
   "cell_type": "code",
   "execution_count": 178,
   "metadata": {},
   "outputs": [
    {
     "name": "stdout",
     "output_type": "stream",
     "text": [
      "<class 'pandas.core.frame.DataFrame'>\n",
      "Int64Index: 8342 entries, 51424 to 118363\n",
      "Data columns (total 6 columns):\n",
      " #   Column          Non-Null Count  Dtype         \n",
      "---  ------          --------------  -----         \n",
      " 0   id              8342 non-null   int64         \n",
      " 1   event_type      8342 non-null   object        \n",
      " 2   selected_level  8342 non-null   object        \n",
      " 3   start_time      8342 non-null   datetime64[ns]\n",
      " 4   tutorial_id     0 non-null      float64       \n",
      " 5   user_id         8342 non-null   int64         \n",
      "dtypes: datetime64[ns](1), float64(1), int64(2), object(2)\n",
      "memory usage: 456.2+ KB\n"
     ]
    }
   ],
   "source": [
    "# Так как мы изучаем событие выбора уровня сложности вопросов на events,\n",
    "# оставив в нём только такие строки, где event_type = level_choice\n",
    "events[events['event_type'] == 'level_choice'].info()"
   ]
  },
  {
   "cell_type": "markdown",
   "metadata": {},
   "source": [
    "Как видим, этот срез содержит 8342 строки и в нем есть пропуски в tutorial_id. Это связано с тем, что для событий типа level_choice не предусмотрена запись параметра tutorial_id. Поэтому для дальнейшего исследования факт наличия пропусков в этом столбце нам не важен. "
   ]
  },
  {
   "cell_type": "code",
   "execution_count": 179,
   "metadata": {},
   "outputs": [
    {
     "data": {
      "text/html": [
       "<div>\n",
       "<style scoped>\n",
       "    .dataframe tbody tr th:only-of-type {\n",
       "        vertical-align: middle;\n",
       "    }\n",
       "\n",
       "    .dataframe tbody tr th {\n",
       "        vertical-align: top;\n",
       "    }\n",
       "\n",
       "    .dataframe thead th {\n",
       "        text-align: right;\n",
       "    }\n",
       "</style>\n",
       "<table border=\"1\" class=\"dataframe\">\n",
       "  <thead>\n",
       "    <tr style=\"text-align: right;\">\n",
       "      <th></th>\n",
       "      <th>id</th>\n",
       "      <th>event_type</th>\n",
       "      <th>selected_level</th>\n",
       "      <th>start_time</th>\n",
       "      <th>tutorial_id</th>\n",
       "      <th>user_id</th>\n",
       "    </tr>\n",
       "  </thead>\n",
       "  <tbody>\n",
       "    <tr>\n",
       "      <th>51424</th>\n",
       "      <td>80327</td>\n",
       "      <td>level_choice</td>\n",
       "      <td>medium</td>\n",
       "      <td>2018-01-01 20:37:22</td>\n",
       "      <td>NaN</td>\n",
       "      <td>27835</td>\n",
       "    </tr>\n",
       "    <tr>\n",
       "      <th>51428</th>\n",
       "      <td>80331</td>\n",
       "      <td>level_choice</td>\n",
       "      <td>hard</td>\n",
       "      <td>2018-01-01 22:37:50</td>\n",
       "      <td>NaN</td>\n",
       "      <td>27839</td>\n",
       "    </tr>\n",
       "    <tr>\n",
       "      <th>51441</th>\n",
       "      <td>80344</td>\n",
       "      <td>level_choice</td>\n",
       "      <td>medium</td>\n",
       "      <td>2018-01-02 05:18:42</td>\n",
       "      <td>NaN</td>\n",
       "      <td>27840</td>\n",
       "    </tr>\n",
       "    <tr>\n",
       "      <th>51443</th>\n",
       "      <td>80346</td>\n",
       "      <td>level_choice</td>\n",
       "      <td>hard</td>\n",
       "      <td>2018-01-02 06:19:18</td>\n",
       "      <td>NaN</td>\n",
       "      <td>27845</td>\n",
       "    </tr>\n",
       "    <tr>\n",
       "      <th>51450</th>\n",
       "      <td>80353</td>\n",
       "      <td>level_choice</td>\n",
       "      <td>easy</td>\n",
       "      <td>2018-01-02 08:46:03</td>\n",
       "      <td>NaN</td>\n",
       "      <td>27842</td>\n",
       "    </tr>\n",
       "    <tr>\n",
       "      <th>51457</th>\n",
       "      <td>80360</td>\n",
       "      <td>level_choice</td>\n",
       "      <td>easy</td>\n",
       "      <td>2018-01-02 11:53:11</td>\n",
       "      <td>NaN</td>\n",
       "      <td>27849</td>\n",
       "    </tr>\n",
       "    <tr>\n",
       "      <th>51462</th>\n",
       "      <td>80365</td>\n",
       "      <td>level_choice</td>\n",
       "      <td>medium</td>\n",
       "      <td>2018-01-02 14:09:58</td>\n",
       "      <td>NaN</td>\n",
       "      <td>27843</td>\n",
       "    </tr>\n",
       "    <tr>\n",
       "      <th>51464</th>\n",
       "      <td>80367</td>\n",
       "      <td>level_choice</td>\n",
       "      <td>medium</td>\n",
       "      <td>2018-01-02 15:10:27</td>\n",
       "      <td>NaN</td>\n",
       "      <td>27846</td>\n",
       "    </tr>\n",
       "    <tr>\n",
       "      <th>51473</th>\n",
       "      <td>80376</td>\n",
       "      <td>level_choice</td>\n",
       "      <td>medium</td>\n",
       "      <td>2018-01-02 18:09:02</td>\n",
       "      <td>NaN</td>\n",
       "      <td>27847</td>\n",
       "    </tr>\n",
       "    <tr>\n",
       "      <th>51475</th>\n",
       "      <td>80378</td>\n",
       "      <td>level_choice</td>\n",
       "      <td>medium</td>\n",
       "      <td>2018-01-02 18:39:44</td>\n",
       "      <td>NaN</td>\n",
       "      <td>27852</td>\n",
       "    </tr>\n",
       "  </tbody>\n",
       "</table>\n",
       "</div>"
      ],
      "text/plain": [
       "          id    event_type selected_level          start_time  tutorial_id  \\\n",
       "51424  80327  level_choice         medium 2018-01-01 20:37:22          NaN   \n",
       "51428  80331  level_choice           hard 2018-01-01 22:37:50          NaN   \n",
       "51441  80344  level_choice         medium 2018-01-02 05:18:42          NaN   \n",
       "51443  80346  level_choice           hard 2018-01-02 06:19:18          NaN   \n",
       "51450  80353  level_choice           easy 2018-01-02 08:46:03          NaN   \n",
       "51457  80360  level_choice           easy 2018-01-02 11:53:11          NaN   \n",
       "51462  80365  level_choice         medium 2018-01-02 14:09:58          NaN   \n",
       "51464  80367  level_choice         medium 2018-01-02 15:10:27          NaN   \n",
       "51473  80376  level_choice         medium 2018-01-02 18:09:02          NaN   \n",
       "51475  80378  level_choice         medium 2018-01-02 18:39:44          NaN   \n",
       "\n",
       "       user_id  \n",
       "51424    27835  \n",
       "51428    27839  \n",
       "51441    27840  \n",
       "51443    27845  \n",
       "51450    27842  \n",
       "51457    27849  \n",
       "51462    27843  \n",
       "51464    27846  \n",
       "51473    27847  \n",
       "51475    27852  "
      ]
     },
     "execution_count": 179,
     "metadata": {},
     "output_type": "execute_result"
    }
   ],
   "source": [
    "# Посмотрим на первых 10 строк из датафрейма, в котором содержатся данные о пользователях, сделавших выбор уровня сложности вопросов\n",
    "events[events['event_type'] == 'level_choice'].head(10)"
   ]
  },
  {
   "cell_type": "code",
   "execution_count": 180,
   "metadata": {},
   "outputs": [
    {
     "data": {
      "text/plain": [
       "array([nan, 'medium', 'hard', 'easy'], dtype=object)"
      ]
     },
     "execution_count": 180,
     "metadata": {},
     "output_type": "execute_result"
    }
   ],
   "source": [
    "# Оценим, какие уникальные события есть в столбце selected_level\n",
    "events['selected_level'].unique()"
   ]
  },
  {
   "cell_type": "code",
   "execution_count": 181,
   "metadata": {},
   "outputs": [
    {
     "data": {
      "text/plain": [
       "19926"
      ]
     },
     "execution_count": 181,
     "metadata": {},
     "output_type": "execute_result"
    }
   ],
   "source": [
    "# Оценим, какое количество пользователей совершали события\n",
    "events['user_id'].nunique()\n"
   ]
  },
  {
   "cell_type": "code",
   "execution_count": 182,
   "metadata": {},
   "outputs": [
    {
     "name": "stderr",
     "output_type": "stream",
     "text": [
      "C:\\Users\\123\\AppData\\Local\\Programs\\Python\\Python39\\lib\\site-packages\\pandas\\core\\generic.py:5516: SettingWithCopyWarning: \n",
      "A value is trying to be set on a copy of a slice from a DataFrame.\n",
      "Try using .loc[row_indexer,col_indexer] = value instead\n",
      "\n",
      "See the caveats in the documentation: https://pandas.pydata.org/pandas-docs/stable/user_guide/indexing.html#returning-a-view-versus-a-copy\n",
      "  self[name] = value\n"
     ]
    }
   ],
   "source": [
    "# Делаем выборку оплаты событий, совершенных пользователями, зарегистрировавшихся 2018 году\n",
    "purchase = purchase_df[purchase_df['user_id'].isin(registered)]\n",
    "# Изменим тип столбца  event_datetime на datetime\n",
    "purchase.event_datetime = pd.to_datetime(purchase.event_datetime, format='%Y-%m-%dT%H:%M:%S')"
   ]
  },
  {
   "cell_type": "code",
   "execution_count": 184,
   "metadata": {},
   "outputs": [
    {
     "data": {
      "text/plain": [
       "8342"
      ]
     },
     "execution_count": 184,
     "metadata": {},
     "output_type": "execute_result"
    }
   ],
   "source": [
    "# Определим количество пользователей, перешедших на выбор уровня сложности вопросов\n",
    "events[events['event_type'] == 'level_choice']['user_id'].nunique()"
   ]
  },
  {
   "cell_type": "markdown",
   "metadata": {},
   "source": [
    "Посчитаем, какой процент от общего количества зарегистрировавшихся пользователей перешли к уровню выбора уровня сложности вопросов"
   ]
  },
  {
   "cell_type": "code",
   "execution_count": 185,
   "metadata": {},
   "outputs": [
    {
     "name": "stdout",
     "output_type": "stream",
     "text": [
      "Процент пользователей, выбравших уровень сложности тренировок (от общего числа зарегистрировавшихся): 41.86%\n"
     ]
    }
   ],
   "source": [
    "registered_users_count = events[events['event_type'] == 'registration'][\n",
    "    'user_id'\n",
    "].nunique()\n",
    "level_choice_users_count = events[events['event_type'] == 'level_choice'][\n",
    "    'user_id'\n",
    "].nunique()\n",
    "percent_tutorial_start_users = level_choice_users_count / registered_users_count\n",
    "print(\"Процент пользователей, выбравших уровень сложности тренировок (от общего числа зарегистрировавшихся): {:.2%}\".format(\n",
    "percent_tutorial_start_users\n",
    "    )\n",
    ")"
   ]
  },
  {
   "cell_type": "markdown",
   "metadata": {},
   "source": [
    "Посчитаем процент пользователей, купивших платные вопросы, от числа пользователей, которые выбрали уровень сложности"
   ]
  },
  {
   "cell_type": "code",
   "execution_count": 186,
   "metadata": {},
   "outputs": [
    {
     "name": "stdout",
     "output_type": "stream",
     "text": [
      "Процент пользователей, которые оплатили вопросы (от числа пользователей, которые выбрали уровень сложности): 19.18%\n"
     ]
    }
   ],
   "source": [
    "# Количество пользователей, которые оплатили вопросы\n",
    "paying_users_count = purchase[\"user_id\"].nunique()\n",
    "percent_of_paying_users = paying_users_count / level_choice_users_count\n",
    "print(\n",
    "    \"Процент пользователей, которые оплатили вопросы (от числа пользователей, которые выбрали уровень сложности): {:.2%}\".format(\n",
    "        percent_of_paying_users\n",
    "    )\n",
    ")"
   ]
  },
  {
   "cell_type": "markdown",
   "metadata": {},
   "source": [
    "Добавим в датафрейм purchase столбец event_type, который будет содержать одно значение purchase. Это нужно, чтобы в объединённом датафрейме однозначно выделить события оплаты."
   ]
  },
  {
   "cell_type": "code",
   "execution_count": 187,
   "metadata": {},
   "outputs": [
    {
     "name": "stderr",
     "output_type": "stream",
     "text": [
      "C:\\Users\\123\\AppData\\Local\\Temp/ipykernel_17232/1009542599.py:1: SettingWithCopyWarning: \n",
      "A value is trying to be set on a copy of a slice from a DataFrame.\n",
      "Try using .loc[row_indexer,col_indexer] = value instead\n",
      "\n",
      "See the caveats in the documentation: https://pandas.pydata.org/pandas-docs/stable/user_guide/indexing.html#returning-a-view-versus-a-copy\n",
      "  purchase['event_type'] = 'purchase'\n"
     ]
    }
   ],
   "source": [
    "purchase['event_type'] = 'purchase'"
   ]
  },
  {
   "cell_type": "markdown",
   "metadata": {},
   "source": [
    "Также у нас есть одинаковые столбцы id в двух датафреймах, но смысл их несколько отличается, так как столбец id в events указывает на идентификатор события, а столбец id в purchase указывает на идентификатор оплаты. Поэтому применим функцию rename(), чтобы переименовать столбцы в датафреймах. Также переименуем столбец event_datetime в purchase_datetime"
   ]
  },
  {
   "cell_type": "code",
   "execution_count": 188,
   "metadata": {},
   "outputs": [],
   "source": [
    "events = events.rename(columns={\"id\": \"event_id\"})\n",
    "purchase = purchase.rename(columns={\"id\": \"purchase_id\", \"event_datetime\": \"purchase_datetime\"})\n"
   ]
  },
  {
   "cell_type": "markdown",
   "metadata": {},
   "source": [
    "Следующим шагом объединим датафреймы events и purchase с помощью функции pd.concat() и запишем объединённый датафрейм в переменную total_events_df."
   ]
  },
  {
   "cell_type": "code",
   "execution_count": 189,
   "metadata": {},
   "outputs": [],
   "source": [
    "total_events_df = pd.concat([events,purchase],sort=False)"
   ]
  },
  {
   "cell_type": "code",
   "execution_count": 190,
   "metadata": {},
   "outputs": [
    {
     "data": {
      "text/html": [
       "<div>\n",
       "<style scoped>\n",
       "    .dataframe tbody tr th:only-of-type {\n",
       "        vertical-align: middle;\n",
       "    }\n",
       "\n",
       "    .dataframe tbody tr th {\n",
       "        vertical-align: top;\n",
       "    }\n",
       "\n",
       "    .dataframe thead th {\n",
       "        text-align: right;\n",
       "    }\n",
       "</style>\n",
       "<table border=\"1\" class=\"dataframe\">\n",
       "  <thead>\n",
       "    <tr style=\"text-align: right;\">\n",
       "      <th></th>\n",
       "      <th>event_id</th>\n",
       "      <th>event_type</th>\n",
       "      <th>selected_level</th>\n",
       "      <th>start_time</th>\n",
       "      <th>tutorial_id</th>\n",
       "      <th>user_id</th>\n",
       "      <th>purchase_id</th>\n",
       "      <th>purchase_datetime</th>\n",
       "      <th>amount</th>\n",
       "    </tr>\n",
       "  </thead>\n",
       "  <tbody>\n",
       "    <tr>\n",
       "      <th>51405</th>\n",
       "      <td>80308.0</td>\n",
       "      <td>registration</td>\n",
       "      <td>NaN</td>\n",
       "      <td>2018-01-01 03:48:40</td>\n",
       "      <td>NaN</td>\n",
       "      <td>27832</td>\n",
       "      <td>NaN</td>\n",
       "      <td>NaT</td>\n",
       "      <td>NaN</td>\n",
       "    </tr>\n",
       "    <tr>\n",
       "      <th>51406</th>\n",
       "      <td>80309.0</td>\n",
       "      <td>registration</td>\n",
       "      <td>NaN</td>\n",
       "      <td>2018-01-01 04:07:25</td>\n",
       "      <td>NaN</td>\n",
       "      <td>27833</td>\n",
       "      <td>NaN</td>\n",
       "      <td>NaT</td>\n",
       "      <td>NaN</td>\n",
       "    </tr>\n",
       "    <tr>\n",
       "      <th>51407</th>\n",
       "      <td>80310.0</td>\n",
       "      <td>registration</td>\n",
       "      <td>NaN</td>\n",
       "      <td>2018-01-01 08:35:10</td>\n",
       "      <td>NaN</td>\n",
       "      <td>27834</td>\n",
       "      <td>NaN</td>\n",
       "      <td>NaT</td>\n",
       "      <td>NaN</td>\n",
       "    </tr>\n",
       "    <tr>\n",
       "      <th>51408</th>\n",
       "      <td>80311.0</td>\n",
       "      <td>registration</td>\n",
       "      <td>NaN</td>\n",
       "      <td>2018-01-01 11:54:47</td>\n",
       "      <td>NaN</td>\n",
       "      <td>27835</td>\n",
       "      <td>NaN</td>\n",
       "      <td>NaT</td>\n",
       "      <td>NaN</td>\n",
       "    </tr>\n",
       "    <tr>\n",
       "      <th>51409</th>\n",
       "      <td>80312.0</td>\n",
       "      <td>registration</td>\n",
       "      <td>NaN</td>\n",
       "      <td>2018-01-01 13:28:07</td>\n",
       "      <td>NaN</td>\n",
       "      <td>27836</td>\n",
       "      <td>NaN</td>\n",
       "      <td>NaT</td>\n",
       "      <td>NaN</td>\n",
       "    </tr>\n",
       "    <tr>\n",
       "      <th>51410</th>\n",
       "      <td>80313.0</td>\n",
       "      <td>registration</td>\n",
       "      <td>NaN</td>\n",
       "      <td>2018-01-01 14:08:40</td>\n",
       "      <td>NaN</td>\n",
       "      <td>27837</td>\n",
       "      <td>NaN</td>\n",
       "      <td>NaT</td>\n",
       "      <td>NaN</td>\n",
       "    </tr>\n",
       "    <tr>\n",
       "      <th>51411</th>\n",
       "      <td>80314.0</td>\n",
       "      <td>registration</td>\n",
       "      <td>NaN</td>\n",
       "      <td>2018-01-01 14:42:58</td>\n",
       "      <td>NaN</td>\n",
       "      <td>27838</td>\n",
       "      <td>NaN</td>\n",
       "      <td>NaT</td>\n",
       "      <td>NaN</td>\n",
       "    </tr>\n",
       "    <tr>\n",
       "      <th>51412</th>\n",
       "      <td>80315.0</td>\n",
       "      <td>tutorial_start</td>\n",
       "      <td>NaN</td>\n",
       "      <td>2018-01-01 14:54:40</td>\n",
       "      <td>31505.0</td>\n",
       "      <td>27836</td>\n",
       "      <td>NaN</td>\n",
       "      <td>NaT</td>\n",
       "      <td>NaN</td>\n",
       "    </tr>\n",
       "    <tr>\n",
       "      <th>51413</th>\n",
       "      <td>80316.0</td>\n",
       "      <td>tutorial_start</td>\n",
       "      <td>NaN</td>\n",
       "      <td>2018-01-01 15:00:51</td>\n",
       "      <td>31506.0</td>\n",
       "      <td>27835</td>\n",
       "      <td>NaN</td>\n",
       "      <td>NaT</td>\n",
       "      <td>NaN</td>\n",
       "    </tr>\n",
       "    <tr>\n",
       "      <th>51414</th>\n",
       "      <td>80317.0</td>\n",
       "      <td>tutorial_finish</td>\n",
       "      <td>NaN</td>\n",
       "      <td>2018-01-01 15:06:15</td>\n",
       "      <td>31506.0</td>\n",
       "      <td>27835</td>\n",
       "      <td>NaN</td>\n",
       "      <td>NaT</td>\n",
       "      <td>NaN</td>\n",
       "    </tr>\n",
       "  </tbody>\n",
       "</table>\n",
       "</div>"
      ],
      "text/plain": [
       "       event_id       event_type selected_level          start_time  \\\n",
       "51405   80308.0     registration            NaN 2018-01-01 03:48:40   \n",
       "51406   80309.0     registration            NaN 2018-01-01 04:07:25   \n",
       "51407   80310.0     registration            NaN 2018-01-01 08:35:10   \n",
       "51408   80311.0     registration            NaN 2018-01-01 11:54:47   \n",
       "51409   80312.0     registration            NaN 2018-01-01 13:28:07   \n",
       "51410   80313.0     registration            NaN 2018-01-01 14:08:40   \n",
       "51411   80314.0     registration            NaN 2018-01-01 14:42:58   \n",
       "51412   80315.0   tutorial_start            NaN 2018-01-01 14:54:40   \n",
       "51413   80316.0   tutorial_start            NaN 2018-01-01 15:00:51   \n",
       "51414   80317.0  tutorial_finish            NaN 2018-01-01 15:06:15   \n",
       "\n",
       "       tutorial_id  user_id  purchase_id purchase_datetime  amount  \n",
       "51405          NaN    27832          NaN               NaT     NaN  \n",
       "51406          NaN    27833          NaN               NaT     NaN  \n",
       "51407          NaN    27834          NaN               NaT     NaN  \n",
       "51408          NaN    27835          NaN               NaT     NaN  \n",
       "51409          NaN    27836          NaN               NaT     NaN  \n",
       "51410          NaN    27837          NaN               NaT     NaN  \n",
       "51411          NaN    27838          NaN               NaT     NaN  \n",
       "51412      31505.0    27836          NaN               NaT     NaN  \n",
       "51413      31506.0    27835          NaN               NaT     NaN  \n",
       "51414      31506.0    27835          NaN               NaT     NaN  "
      ]
     },
     "execution_count": 190,
     "metadata": {},
     "output_type": "execute_result"
    }
   ],
   "source": [
    "# Посмотрим, что получилось в итоге объединения\n",
    "total_events_df.head(10)"
   ]
  },
  {
   "cell_type": "code",
   "execution_count": 191,
   "metadata": {},
   "outputs": [],
   "source": [
    "# Разделим пользователей на группы в зависимости от выбранного уровня сложности (easy, medium, hard)\n",
    "users_easy_level = total_events_df[total_events_df['selected_level'] == 'easy'][\"user_id\"].unique()\n",
    "users_medium_level = total_events_df[total_events_df['selected_level'] == 'medium'][\"user_id\"].unique()\n",
    "users_hard_level = total_events_df[total_events_df['selected_level'] == 'hard'][\"user_id\"].unique()"
   ]
  },
  {
   "cell_type": "code",
   "execution_count": 192,
   "metadata": {},
   "outputs": [
    {
     "name": "stdout",
     "output_type": "stream",
     "text": [
      "1600\n"
     ]
    }
   ],
   "source": [
    "# Посчитаем общее количество пользователей, совершивших покупки\n",
    "paying_users_count = purchase[\"user_id\"].nunique()\n",
    "print(paying_users_count)"
   ]
  },
  {
   "cell_type": "code",
   "execution_count": 193,
   "metadata": {},
   "outputs": [
    {
     "data": {
      "text/plain": [
       "189"
      ]
     },
     "execution_count": 193,
     "metadata": {},
     "output_type": "execute_result"
    }
   ],
   "source": [
    "# Определим количество пользователей, купивших вопросы уровня 'easy'\n",
    "purchase_easy_level = purchase[purchase[\"user_id\"].isin(users_easy_level)]\n",
    "purchase_easy_level['user_id'].nunique()"
   ]
  },
  {
   "cell_type": "code",
   "execution_count": 194,
   "metadata": {},
   "outputs": [
    {
     "data": {
      "text/plain": [
       "969"
      ]
     },
     "execution_count": 194,
     "metadata": {},
     "output_type": "execute_result"
    }
   ],
   "source": [
    "# Определим количество пользователей, купивших вопросы уровня 'medium'\n",
    "purchase_medium_level = purchase[purchase[\"user_id\"].isin(users_medium_level)]\n",
    "purchase_medium_level['user_id'].nunique()"
   ]
  },
  {
   "cell_type": "code",
   "execution_count": 195,
   "metadata": {},
   "outputs": [
    {
     "data": {
      "text/plain": [
       "442"
      ]
     },
     "execution_count": 195,
     "metadata": {},
     "output_type": "execute_result"
    }
   ],
   "source": [
    "# Определим количество пользователей, купивших вопросы уровня 'hard'\n",
    "purchase_hard_level = purchase[purchase[\"user_id\"].isin(users_hard_level)]\n",
    "purchase_hard_level['user_id'].nunique()"
   ]
  },
  {
   "cell_type": "code",
   "execution_count": 196,
   "metadata": {},
   "outputs": [
    {
     "name": "stdout",
     "output_type": "stream",
     "text": [
      "1600\n",
      "True\n"
     ]
    }
   ],
   "source": [
    "# Сверим общее количество пользователей, совершивших покупки с общим количеством пользователей,\n",
    "# которых мы разбили на группы по уровню сложности вопросов\n",
    "total = purchase_hard_level['user_id'].nunique() + purchase_medium_level['user_id'].nunique() + purchase_easy_level['user_id'].nunique()\n",
    "print(total)\n",
    "print(paying_users_count == total)"
   ]
  },
  {
   "cell_type": "markdown",
   "metadata": {},
   "source": [
    "Далее определим, какой процент от общего количества пользователей, оплативших покупки, составляет каждая группа "
   ]
  },
  {
   "cell_type": "code",
   "execution_count": 197,
   "metadata": {},
   "outputs": [
    {
     "name": "stdout",
     "output_type": "stream",
     "text": [
      "Процент пользователей, которые выбрали легкий уровень и оплатили тренировки (от числа всех пользователей, совершивших покупки): 11.81%\n"
     ]
    }
   ],
   "source": [
    "easy_level_paying = purchase_easy_level['user_id'].nunique()/paying_users_count\n",
    "print(\n",
    "    \"Процент пользователей, которые выбрали легкий уровень и оплатили тренировки (от числа всех пользователей, совершивших покупки): {:.2%}\".format(\n",
    "        easy_level_paying\n",
    "    )\n",
    ")"
   ]
  },
  {
   "cell_type": "code",
   "execution_count": 198,
   "metadata": {},
   "outputs": [
    {
     "name": "stdout",
     "output_type": "stream",
     "text": [
      "Процент пользователей, которые выбрали средний уровень и оплатили тренировки (от числа всех пользователей, совершивших покупки): 60.56%\n"
     ]
    }
   ],
   "source": [
    "\n",
    "medium_level_paying = purchase_medium_level['user_id'].nunique()/paying_users_count\n",
    "print(\n",
    "    \"Процент пользователей, которые выбрали средний уровень и оплатили тренировки (от числа всех пользователей, совершивших покупки): {:.2%}\".format(\n",
    "        medium_level_paying\n",
    "    )\n",
    ")"
   ]
  },
  {
   "cell_type": "code",
   "execution_count": 199,
   "metadata": {},
   "outputs": [
    {
     "name": "stdout",
     "output_type": "stream",
     "text": [
      "Процент пользователей, которые выбрали тяжелый уровень и оплатили тренировки (от числа всех пользователей, совершивших покупки): 27.62%\n"
     ]
    }
   ],
   "source": [
    "hard_level_paying = purchase_hard_level['user_id'].nunique()/paying_users_count\n",
    "print(\n",
    "    \"Процент пользователей, которые выбрали тяжелый уровень и оплатили тренировки (от числа всех пользователей, совершивших покупки): {:.2%}\".format(\n",
    "        hard_level_paying\n",
    "    )\n",
    ")"
   ]
  },
  {
   "cell_type": "markdown",
   "metadata": {},
   "source": [
    "Как видим из результатов расчетов, наибольший процент от общего числа покупателей, составляют пользователи, которые выбрали средний уровень вопросов (60.56 %), а наименьший - пользователи, выбравшие легкий уровень (11.81 %). Тяжелый уровень вопросов выбрали 27.62 % покупателей"
   ]
  },
  {
   "cell_type": "markdown",
   "metadata": {},
   "source": [
    "Далее найдем процент пользователей, которые выбрали определенный уровень и оплатили тренировки, от числа всех пользователей, выбравших данный уровень"
   ]
  },
  {
   "cell_type": "code",
   "execution_count": 200,
   "metadata": {},
   "outputs": [
    {
     "name": "stdout",
     "output_type": "stream",
     "text": [
      "Процент пользователей, которые выбрали уровень hard и оплатили тренировки (от числа всех пользователей, выбравших уровень hard): 35.39%\n"
     ]
    }
   ],
   "source": [
    "\n",
    "hard_level_paying = purchase_hard_level['user_id'].nunique()/len(users_hard_level)\n",
    "print(\n",
    "    \"Процент пользователей, которые выбрали уровень hard и оплатили тренировки (от числа всех пользователей, выбравших уровень hard): {:.2%}\".format(\n",
    "        hard_level_paying\n",
    "    )\n",
    ")"
   ]
  },
  {
   "cell_type": "code",
   "execution_count": 201,
   "metadata": {},
   "outputs": [
    {
     "name": "stdout",
     "output_type": "stream",
     "text": [
      "Процент пользователей, которые выбрали уровень medium и оплатили тренировки (от числа всех пользователей, выбравших уровень medium): 20.86%\n"
     ]
    }
   ],
   "source": [
    "medium_level_paying = purchase_medium_level['user_id'].nunique()/len(users_medium_level)\n",
    "print(\n",
    "    \"Процент пользователей, которые выбрали уровень medium и оплатили тренировки (от числа всех пользователей, выбравших уровень medium): {:.2%}\".format(\n",
    "        medium_level_paying\n",
    "    )\n",
    ")"
   ]
  },
  {
   "cell_type": "code",
   "execution_count": 202,
   "metadata": {},
   "outputs": [
    {
     "name": "stdout",
     "output_type": "stream",
     "text": [
      "Процент пользователей, которые выбрали уровень easy и оплатили тренировки (от числа всех пользователей, выбравших уровень easy): 7.72%\n"
     ]
    }
   ],
   "source": [
    "easy_level_paying = purchase_easy_level['user_id'].nunique()/len(users_easy_level)\n",
    "print(\n",
    "    \"Процент пользователей, которые выбрали уровень easy и оплатили тренировки (от числа всех пользователей, выбравших уровень easy): {:.2%}\".format(\n",
    "        easy_level_paying\n",
    "    )\n",
    ")"
   ]
  },
  {
   "cell_type": "markdown",
   "metadata": {},
   "source": [
    "Как видим из полученных результатов, вероятность покупки платных вопросов выше у пользователей, выбравших сложные вопросы и вопросы среднего уровня ( 35.39% и 20.86% соответственно). И только лишь  7.72 % пользователей, выбравших легкий уровень вопросов, переходят к выбору платных пакетов. Необходимо изучить, почему у пользователей, выбравших легкий уровень, такая низкая заинтересованность приложением. Возможно, это связано с тем, что таким пользователям достаточно вопросов, доступных в бесплатном формате, либо вопросы показались слишком сложными."
   ]
  },
  {
   "cell_type": "markdown",
   "metadata": {},
   "source": [
    "Далее посчитаем, сколько времени проходит между регистрацией и выбором уровня сложности. \n",
    "Первым делом выделим отдельный датафрейм registration_df, который будет содержать только события с event_type = registration. Этот датафрейм будет вспомогательным для определения времени между регистрацией и выбором уровня сложности"
   ]
  },
  {
   "cell_type": "code",
   "execution_count": 203,
   "metadata": {},
   "outputs": [],
   "source": [
    "registration_df = total_events_df[total_events_df['event_type'] == 'registration']"
   ]
  },
  {
   "cell_type": "markdown",
   "metadata": {},
   "source": [
    "Проверим, что в нашем датафрейме registration_df для каждого пользователя содержится только по одному событию, то есть по одной регистрации на пользователя. Это важно, чтобы однозначно для одного пользователя присоединить только одного событие, по которому мы будем считать время."
   ]
  },
  {
   "cell_type": "code",
   "execution_count": 204,
   "metadata": {},
   "outputs": [
    {
     "data": {
      "text/plain": [
       "1.0"
      ]
     },
     "execution_count": 204,
     "metadata": {},
     "output_type": "execute_result"
    }
   ],
   "source": [
    "registration_df['user_id'].value_counts().mean()"
   ]
  },
  {
   "cell_type": "markdown",
   "metadata": {},
   "source": [
    "Оставим в датафрейме registration_df только те данные, которые нужны для наших вычислений — столбец user_id с идентификатором пользователя и столбец start_time со временем регистрации. Также переименуем столбец start_time в столбец registration_time для понятности."
   ]
  },
  {
   "cell_type": "code",
   "execution_count": 205,
   "metadata": {},
   "outputs": [],
   "source": [
    "registration_df = registration_df[[\"user_id\", \"start_time\"]].rename(\n",
    "    columns={\"start_time\": \"registration_time\"}\n",
    ")"
   ]
  },
  {
   "cell_type": "code",
   "execution_count": 206,
   "metadata": {},
   "outputs": [],
   "source": [
    "# Выделим отдельный датафрейм choice_level, который будет содержать только события с event_type = level_choice\n",
    "choice_level_df = total_events_df[total_events_df['event_type'] == 'level_choice']"
   ]
  },
  {
   "cell_type": "code",
   "execution_count": 207,
   "metadata": {},
   "outputs": [
    {
     "data": {
      "text/plain": [
       "1.0"
      ]
     },
     "execution_count": 207,
     "metadata": {},
     "output_type": "execute_result"
    }
   ],
   "source": [
    "# Проверим, что в нашем датафрейме choice_level_df для каждого пользователя содержится только по одному событию\n",
    "choice_level_df['user_id'].value_counts().mean()"
   ]
  },
  {
   "cell_type": "code",
   "execution_count": 208,
   "metadata": {},
   "outputs": [
    {
     "name": "stdout",
     "output_type": "stream",
     "text": [
      "       user_id choice_level_start_time\n",
      "51424    27835     2018-01-01 20:37:22\n",
      "51428    27839     2018-01-01 22:37:50\n",
      "51441    27840     2018-01-02 05:18:42\n",
      "51443    27845     2018-01-02 06:19:18\n",
      "51450    27842     2018-01-02 08:46:03\n",
      "51457    27849     2018-01-02 11:53:11\n",
      "51462    27843     2018-01-02 14:09:58\n",
      "51464    27846     2018-01-02 15:10:27\n",
      "51473    27847     2018-01-02 18:09:02\n",
      "51475    27852     2018-01-02 18:39:44\n"
     ]
    }
   ],
   "source": [
    "# Переименуем столбец start_time на choice_level_start_time\n",
    "choice_level_df = choice_level_df[[\"user_id\", \"start_time\"]].rename(columns={\"start_time\": \"choice_level_start_time\"})\n",
    "# Проверим результат переименования\n",
    "print(choice_level_df.head(10))"
   ]
  },
  {
   "cell_type": "code",
   "execution_count": 209,
   "metadata": {},
   "outputs": [],
   "source": [
    "# Создадим отдельные датафреймы пользователей в зависимости от уровня вопросов\n",
    "easy_level_df = choice_level_df[choice_level_df[\"user_id\"].isin(users_easy_level)]\n",
    "medium_level_df = choice_level_df[choice_level_df[\"user_id\"].isin(users_medium_level)]\n",
    "hard_level_df = choice_level_df[choice_level_df[\"user_id\"].isin(users_hard_level)]\n"
   ]
  },
  {
   "cell_type": "code",
   "execution_count": 210,
   "metadata": {},
   "outputs": [
    {
     "data": {
      "text/html": [
       "<div>\n",
       "<style scoped>\n",
       "    .dataframe tbody tr th:only-of-type {\n",
       "        vertical-align: middle;\n",
       "    }\n",
       "\n",
       "    .dataframe tbody tr th {\n",
       "        vertical-align: top;\n",
       "    }\n",
       "\n",
       "    .dataframe thead th {\n",
       "        text-align: right;\n",
       "    }\n",
       "</style>\n",
       "<table border=\"1\" class=\"dataframe\">\n",
       "  <thead>\n",
       "    <tr style=\"text-align: right;\">\n",
       "      <th></th>\n",
       "      <th>user_id</th>\n",
       "      <th>registration_time</th>\n",
       "      <th>choice_level_start_time</th>\n",
       "    </tr>\n",
       "  </thead>\n",
       "  <tbody>\n",
       "    <tr>\n",
       "      <th>0</th>\n",
       "      <td>27842</td>\n",
       "      <td>2018-01-01 23:18:46</td>\n",
       "      <td>2018-01-02 08:46:03</td>\n",
       "    </tr>\n",
       "    <tr>\n",
       "      <th>1</th>\n",
       "      <td>27849</td>\n",
       "      <td>2018-01-02 07:03:55</td>\n",
       "      <td>2018-01-02 11:53:11</td>\n",
       "    </tr>\n",
       "    <tr>\n",
       "      <th>2</th>\n",
       "      <td>27853</td>\n",
       "      <td>2018-01-02 15:47:14</td>\n",
       "      <td>2018-01-03 00:39:54</td>\n",
       "    </tr>\n",
       "    <tr>\n",
       "      <th>3</th>\n",
       "      <td>27859</td>\n",
       "      <td>2018-01-02 21:30:27</td>\n",
       "      <td>2018-01-03 01:11:45</td>\n",
       "    </tr>\n",
       "    <tr>\n",
       "      <th>4</th>\n",
       "      <td>27863</td>\n",
       "      <td>2018-01-03 03:53:48</td>\n",
       "      <td>2018-01-03 09:31:00</td>\n",
       "    </tr>\n",
       "  </tbody>\n",
       "</table>\n",
       "</div>"
      ],
      "text/plain": [
       "   user_id   registration_time choice_level_start_time\n",
       "0    27842 2018-01-01 23:18:46     2018-01-02 08:46:03\n",
       "1    27849 2018-01-02 07:03:55     2018-01-02 11:53:11\n",
       "2    27853 2018-01-02 15:47:14     2018-01-03 00:39:54\n",
       "3    27859 2018-01-02 21:30:27     2018-01-03 01:11:45\n",
       "4    27863 2018-01-03 03:53:48     2018-01-03 09:31:00"
      ]
     },
     "execution_count": 210,
     "metadata": {},
     "output_type": "execute_result"
    }
   ],
   "source": [
    "# Объединим registration_df и easy_level_df, merged_medium_df, merged_hard_df. Это позволит для каждого пользователя в рамках одного датафрейма указать и время регистрации,\n",
    "# и время выбора уровня сложности вопросов в приложении.\n",
    "merged_easy_df = registration_df.merge(easy_level_df, on=\"user_id\", how=\"inner\")\n",
    "merged_medium_df = registration_df.merge(medium_level_df, on=\"user_id\", how=\"inner\")\n",
    "merged_hard_df = registration_df.merge(hard_level_df, on=\"user_id\", how=\"inner\")\n",
    "# Проверим, что получилось в результате объединения\n",
    "merged_easy_df.head()"
   ]
  },
  {
   "cell_type": "code",
   "execution_count": 211,
   "metadata": {},
   "outputs": [
    {
     "data": {
      "text/html": [
       "<div>\n",
       "<style scoped>\n",
       "    .dataframe tbody tr th:only-of-type {\n",
       "        vertical-align: middle;\n",
       "    }\n",
       "\n",
       "    .dataframe tbody tr th {\n",
       "        vertical-align: top;\n",
       "    }\n",
       "\n",
       "    .dataframe thead th {\n",
       "        text-align: right;\n",
       "    }\n",
       "</style>\n",
       "<table border=\"1\" class=\"dataframe\">\n",
       "  <thead>\n",
       "    <tr style=\"text-align: right;\">\n",
       "      <th></th>\n",
       "      <th>user_id</th>\n",
       "      <th>registration_time</th>\n",
       "      <th>choice_level_start_time</th>\n",
       "      <th>timedelta</th>\n",
       "    </tr>\n",
       "  </thead>\n",
       "  <tbody>\n",
       "    <tr>\n",
       "      <th>0</th>\n",
       "      <td>27842</td>\n",
       "      <td>2018-01-01 23:18:46</td>\n",
       "      <td>2018-01-02 08:46:03</td>\n",
       "      <td>0 days 09:27:17</td>\n",
       "    </tr>\n",
       "    <tr>\n",
       "      <th>1</th>\n",
       "      <td>27849</td>\n",
       "      <td>2018-01-02 07:03:55</td>\n",
       "      <td>2018-01-02 11:53:11</td>\n",
       "      <td>0 days 04:49:16</td>\n",
       "    </tr>\n",
       "    <tr>\n",
       "      <th>2</th>\n",
       "      <td>27853</td>\n",
       "      <td>2018-01-02 15:47:14</td>\n",
       "      <td>2018-01-03 00:39:54</td>\n",
       "      <td>0 days 08:52:40</td>\n",
       "    </tr>\n",
       "    <tr>\n",
       "      <th>3</th>\n",
       "      <td>27859</td>\n",
       "      <td>2018-01-02 21:30:27</td>\n",
       "      <td>2018-01-03 01:11:45</td>\n",
       "      <td>0 days 03:41:18</td>\n",
       "    </tr>\n",
       "    <tr>\n",
       "      <th>4</th>\n",
       "      <td>27863</td>\n",
       "      <td>2018-01-03 03:53:48</td>\n",
       "      <td>2018-01-03 09:31:00</td>\n",
       "      <td>0 days 05:37:12</td>\n",
       "    </tr>\n",
       "  </tbody>\n",
       "</table>\n",
       "</div>"
      ],
      "text/plain": [
       "   user_id   registration_time choice_level_start_time       timedelta\n",
       "0    27842 2018-01-01 23:18:46     2018-01-02 08:46:03 0 days 09:27:17\n",
       "1    27849 2018-01-02 07:03:55     2018-01-02 11:53:11 0 days 04:49:16\n",
       "2    27853 2018-01-02 15:47:14     2018-01-03 00:39:54 0 days 08:52:40\n",
       "3    27859 2018-01-02 21:30:27     2018-01-03 01:11:45 0 days 03:41:18\n",
       "4    27863 2018-01-03 03:53:48     2018-01-03 09:31:00 0 days 05:37:12"
      ]
     },
     "execution_count": 211,
     "metadata": {},
     "output_type": "execute_result"
    }
   ],
   "source": [
    "# Определим разницу во времени между регистрацией и выбором уровня \n",
    "merged_easy_df[\"timedelta\"] = (merged_easy_df[\"choice_level_start_time\"] - merged_easy_df[\"registration_time\"])\n",
    "merged_medium_df[\"timedelta\"] = (merged_medium_df[\"choice_level_start_time\"] - merged_medium_df[\"registration_time\"])\n",
    "merged_hard_df[\"timedelta\"] = (merged_hard_df[\"choice_level_start_time\"] - merged_hard_df[\"registration_time\"])\n",
    "# Проверяем, что получилось в результате объединения\n",
    "merged_easy_df.head()"
   ]
  },
  {
   "cell_type": "code",
   "execution_count": 212,
   "metadata": {},
   "outputs": [
    {
     "name": "stdout",
     "output_type": "stream",
     "text": [
      "Среднее время между регистрацией и выбором уровня easy:  0 days 07:10:06.324754901\n",
      "Среднее время между регистрацией и выбором уровня medium:  0 days 07:08:13.360387513\n",
      "Среднее время между регистрацией и выбором уровня hard:  0 days 07:18:32.228182546\n"
     ]
    }
   ],
   "source": [
    "# Среднее время, которое проходит между регистрацией пользователя и выбором уровня сложности\n",
    "merged_easy_df[\"timedelta\"].mean()\n",
    "merged_medium_df[\"timedelta\"].mean()\n",
    "merged_hard_df[\"timedelta\"].mean()\n",
    "print('Среднее время между регистрацией и выбором уровня easy: ', merged_easy_df[\"timedelta\"].mean())\n",
    "print('Среднее время между регистрацией и выбором уровня medium: ', merged_medium_df[\"timedelta\"].mean())\n",
    "print('Среднее время между регистрацией и выбором уровня hard: ', merged_hard_df[\"timedelta\"].mean())\n"
   ]
  },
  {
   "cell_type": "markdown",
   "metadata": {},
   "source": [
    "Как видим, значимой разницы во времени между регистрацией и выбором определенного уровня сложности вопросов нет. В среднем пользователи выбирают уровень сложности вопросов через 7 часов с момента регистрации."
   ]
  },
  {
   "cell_type": "markdown",
   "metadata": {},
   "source": [
    "Далее изучим, есть ли разница во времени между регистрацией и покупкой вопросов разными группами пользователей"
   ]
  },
  {
   "cell_type": "code",
   "execution_count": 213,
   "metadata": {},
   "outputs": [
    {
     "data": {
      "text/html": [
       "<div>\n",
       "<style scoped>\n",
       "    .dataframe tbody tr th:only-of-type {\n",
       "        vertical-align: middle;\n",
       "    }\n",
       "\n",
       "    .dataframe tbody tr th {\n",
       "        vertical-align: top;\n",
       "    }\n",
       "\n",
       "    .dataframe thead th {\n",
       "        text-align: right;\n",
       "    }\n",
       "</style>\n",
       "<table border=\"1\" class=\"dataframe\">\n",
       "  <thead>\n",
       "    <tr style=\"text-align: right;\">\n",
       "      <th></th>\n",
       "      <th>user_id</th>\n",
       "      <th>registration_time</th>\n",
       "      <th>purchase_id</th>\n",
       "      <th>purchase_datetime</th>\n",
       "      <th>amount</th>\n",
       "      <th>event_type</th>\n",
       "    </tr>\n",
       "  </thead>\n",
       "  <tbody>\n",
       "    <tr>\n",
       "      <th>0</th>\n",
       "      <td>27884</td>\n",
       "      <td>2018-01-04 11:50:43</td>\n",
       "      <td>16854</td>\n",
       "      <td>2018-01-08 19:37:34</td>\n",
       "      <td>150</td>\n",
       "      <td>purchase</td>\n",
       "    </tr>\n",
       "    <tr>\n",
       "      <th>1</th>\n",
       "      <td>28090</td>\n",
       "      <td>2018-01-09 19:31:24</td>\n",
       "      <td>16873</td>\n",
       "      <td>2018-01-15 23:42:55</td>\n",
       "      <td>100</td>\n",
       "      <td>purchase</td>\n",
       "    </tr>\n",
       "    <tr>\n",
       "      <th>2</th>\n",
       "      <td>28182</td>\n",
       "      <td>2018-01-11 10:12:20</td>\n",
       "      <td>16865</td>\n",
       "      <td>2018-01-12 02:46:01</td>\n",
       "      <td>200</td>\n",
       "      <td>purchase</td>\n",
       "    </tr>\n",
       "    <tr>\n",
       "      <th>3</th>\n",
       "      <td>28207</td>\n",
       "      <td>2018-01-11 16:27:37</td>\n",
       "      <td>16867</td>\n",
       "      <td>2018-01-12 21:00:24</td>\n",
       "      <td>150</td>\n",
       "      <td>purchase</td>\n",
       "    </tr>\n",
       "    <tr>\n",
       "      <th>4</th>\n",
       "      <td>28247</td>\n",
       "      <td>2018-01-12 10:01:12</td>\n",
       "      <td>16884</td>\n",
       "      <td>2018-01-18 18:32:05</td>\n",
       "      <td>150</td>\n",
       "      <td>purchase</td>\n",
       "    </tr>\n",
       "  </tbody>\n",
       "</table>\n",
       "</div>"
      ],
      "text/plain": [
       "   user_id   registration_time  purchase_id   purchase_datetime  amount  \\\n",
       "0    27884 2018-01-04 11:50:43        16854 2018-01-08 19:37:34     150   \n",
       "1    28090 2018-01-09 19:31:24        16873 2018-01-15 23:42:55     100   \n",
       "2    28182 2018-01-11 10:12:20        16865 2018-01-12 02:46:01     200   \n",
       "3    28207 2018-01-11 16:27:37        16867 2018-01-12 21:00:24     150   \n",
       "4    28247 2018-01-12 10:01:12        16884 2018-01-18 18:32:05     150   \n",
       "\n",
       "  event_type  \n",
       "0   purchase  \n",
       "1   purchase  \n",
       "2   purchase  \n",
       "3   purchase  \n",
       "4   purchase  "
      ]
     },
     "execution_count": 213,
     "metadata": {},
     "output_type": "execute_result"
    }
   ],
   "source": [
    "# Объединяем между собой датафреймы: registration_df и purchase_easy_level, registration_df и purchase_medium_level, \n",
    "# registration_df и purchase_hard_level\n",
    "merged_easy_purch_df = registration_df.merge(purchase_easy_level, on=\"user_id\", how=\"inner\")\n",
    "merged_medium_purch_df = registration_df.merge(purchase_medium_level, on=\"user_id\", how=\"inner\")\n",
    "merged_hard_purch_df = registration_df.merge(purchase_hard_level, on=\"user_id\", how=\"inner\")\n",
    "# Проверяем, что получилось в результате объединения\n",
    "merged_easy_purch_df.head()"
   ]
  },
  {
   "cell_type": "code",
   "execution_count": 214,
   "metadata": {},
   "outputs": [
    {
     "data": {
      "text/html": [
       "<div>\n",
       "<style scoped>\n",
       "    .dataframe tbody tr th:only-of-type {\n",
       "        vertical-align: middle;\n",
       "    }\n",
       "\n",
       "    .dataframe tbody tr th {\n",
       "        vertical-align: top;\n",
       "    }\n",
       "\n",
       "    .dataframe thead th {\n",
       "        text-align: right;\n",
       "    }\n",
       "</style>\n",
       "<table border=\"1\" class=\"dataframe\">\n",
       "  <thead>\n",
       "    <tr style=\"text-align: right;\">\n",
       "      <th></th>\n",
       "      <th>user_id</th>\n",
       "      <th>registration_time</th>\n",
       "      <th>purchase_id</th>\n",
       "      <th>purchase_datetime</th>\n",
       "      <th>amount</th>\n",
       "      <th>event_type</th>\n",
       "      <th>timedelta</th>\n",
       "    </tr>\n",
       "  </thead>\n",
       "  <tbody>\n",
       "    <tr>\n",
       "      <th>0</th>\n",
       "      <td>27884</td>\n",
       "      <td>2018-01-04 11:50:43</td>\n",
       "      <td>16854</td>\n",
       "      <td>2018-01-08 19:37:34</td>\n",
       "      <td>150</td>\n",
       "      <td>purchase</td>\n",
       "      <td>4 days 07:46:51</td>\n",
       "    </tr>\n",
       "    <tr>\n",
       "      <th>1</th>\n",
       "      <td>28090</td>\n",
       "      <td>2018-01-09 19:31:24</td>\n",
       "      <td>16873</td>\n",
       "      <td>2018-01-15 23:42:55</td>\n",
       "      <td>100</td>\n",
       "      <td>purchase</td>\n",
       "      <td>6 days 04:11:31</td>\n",
       "    </tr>\n",
       "    <tr>\n",
       "      <th>2</th>\n",
       "      <td>28182</td>\n",
       "      <td>2018-01-11 10:12:20</td>\n",
       "      <td>16865</td>\n",
       "      <td>2018-01-12 02:46:01</td>\n",
       "      <td>200</td>\n",
       "      <td>purchase</td>\n",
       "      <td>0 days 16:33:41</td>\n",
       "    </tr>\n",
       "    <tr>\n",
       "      <th>3</th>\n",
       "      <td>28207</td>\n",
       "      <td>2018-01-11 16:27:37</td>\n",
       "      <td>16867</td>\n",
       "      <td>2018-01-12 21:00:24</td>\n",
       "      <td>150</td>\n",
       "      <td>purchase</td>\n",
       "      <td>1 days 04:32:47</td>\n",
       "    </tr>\n",
       "    <tr>\n",
       "      <th>4</th>\n",
       "      <td>28247</td>\n",
       "      <td>2018-01-12 10:01:12</td>\n",
       "      <td>16884</td>\n",
       "      <td>2018-01-18 18:32:05</td>\n",
       "      <td>150</td>\n",
       "      <td>purchase</td>\n",
       "      <td>6 days 08:30:53</td>\n",
       "    </tr>\n",
       "  </tbody>\n",
       "</table>\n",
       "</div>"
      ],
      "text/plain": [
       "   user_id   registration_time  purchase_id   purchase_datetime  amount  \\\n",
       "0    27884 2018-01-04 11:50:43        16854 2018-01-08 19:37:34     150   \n",
       "1    28090 2018-01-09 19:31:24        16873 2018-01-15 23:42:55     100   \n",
       "2    28182 2018-01-11 10:12:20        16865 2018-01-12 02:46:01     200   \n",
       "3    28207 2018-01-11 16:27:37        16867 2018-01-12 21:00:24     150   \n",
       "4    28247 2018-01-12 10:01:12        16884 2018-01-18 18:32:05     150   \n",
       "\n",
       "  event_type       timedelta  \n",
       "0   purchase 4 days 07:46:51  \n",
       "1   purchase 6 days 04:11:31  \n",
       "2   purchase 0 days 16:33:41  \n",
       "3   purchase 1 days 04:32:47  \n",
       "4   purchase 6 days 08:30:53  "
      ]
     },
     "execution_count": 214,
     "metadata": {},
     "output_type": "execute_result"
    }
   ],
   "source": [
    "# Находим разницу во времени\n",
    "merged_easy_purch_df[\"timedelta\"] = (merged_easy_purch_df[\"purchase_datetime\"] - merged_easy_purch_df[\"registration_time\"])\n",
    "merged_medium_purch_df[\"timedelta\"] = (merged_medium_purch_df[\"purchase_datetime\"] - merged_medium_purch_df[\"registration_time\"])\n",
    "merged_hard_purch_df[\"timedelta\"] = (merged_hard_purch_df[\"purchase_datetime\"] - merged_hard_purch_df[\"registration_time\"])\n",
    "# Проверяем, что получилось в результате объединения\n",
    "merged_easy_purch_df.head()"
   ]
  },
  {
   "cell_type": "code",
   "execution_count": 215,
   "metadata": {},
   "outputs": [
    {
     "name": "stdout",
     "output_type": "stream",
     "text": [
      "Среднее время между регистрацией и покупкой вопросов, пользователями, выбравшими уровнь easy:  3 days 22:10:23.211640211\n",
      "Среднее время между регистрацией и покупкой вопросов, пользователями, выбравшими уровнь medium:  4 days 06:12:06.576883384\n",
      "Среднее время между регистрацией и покупкой вопросов, пользователями, выбравшими уровнь hard:  3 days 14:55:19.257918552\n"
     ]
    }
   ],
   "source": [
    "# Находим усредненное значение\n",
    "merged_easy_purch_df[\"timedelta\"].mean()\n",
    "merged_medium_purch_df[\"timedelta\"].mean()\n",
    "merged_hard_purch_df[\"timedelta\"].mean()\n",
    "print('Среднее время между регистрацией и покупкой вопросов, пользователями, выбравшими уровнь easy: ', merged_easy_purch_df[\"timedelta\"].mean())\n",
    "print('Среднее время между регистрацией и покупкой вопросов, пользователями, выбравшими уровнь medium: ', merged_medium_purch_df[\"timedelta\"].mean())\n",
    "print('Среднее время между регистрацией и покупкой вопросов, пользователями, выбравшими уровнь hard: ', merged_hard_purch_df[\"timedelta\"].mean())"
   ]
  },
  {
   "cell_type": "markdown",
   "metadata": {},
   "source": [
    "Как видим из расчетов, пользователи, выбравшие легкий уровень вопросов и тяжелый уровень, покупают платные пакеты в среднем через 3 дня с момента регистрации. А вот пользователям, выбравшим средний уровень вопросов, необходимо на день больше времени."
   ]
  },
  {
   "cell_type": "markdown",
   "metadata": {},
   "source": [
    "Найдем разницу во времени между выбором уровня сложности вопросов и покупкой платных вопросов."
   ]
  },
  {
   "cell_type": "code",
   "execution_count": 216,
   "metadata": {},
   "outputs": [
    {
     "data": {
      "text/html": [
       "<div>\n",
       "<style scoped>\n",
       "    .dataframe tbody tr th:only-of-type {\n",
       "        vertical-align: middle;\n",
       "    }\n",
       "\n",
       "    .dataframe tbody tr th {\n",
       "        vertical-align: top;\n",
       "    }\n",
       "\n",
       "    .dataframe thead th {\n",
       "        text-align: right;\n",
       "    }\n",
       "</style>\n",
       "<table border=\"1\" class=\"dataframe\">\n",
       "  <thead>\n",
       "    <tr style=\"text-align: right;\">\n",
       "      <th></th>\n",
       "      <th>user_id</th>\n",
       "      <th>choice_level_start_time</th>\n",
       "      <th>purchase_id</th>\n",
       "      <th>purchase_datetime</th>\n",
       "      <th>amount</th>\n",
       "      <th>event_type</th>\n",
       "    </tr>\n",
       "  </thead>\n",
       "  <tbody>\n",
       "    <tr>\n",
       "      <th>0</th>\n",
       "      <td>27884</td>\n",
       "      <td>2018-01-04 16:18:39</td>\n",
       "      <td>16854</td>\n",
       "      <td>2018-01-08 19:37:34</td>\n",
       "      <td>150</td>\n",
       "      <td>purchase</td>\n",
       "    </tr>\n",
       "    <tr>\n",
       "      <th>1</th>\n",
       "      <td>28090</td>\n",
       "      <td>2018-01-09 21:34:23</td>\n",
       "      <td>16873</td>\n",
       "      <td>2018-01-15 23:42:55</td>\n",
       "      <td>100</td>\n",
       "      <td>purchase</td>\n",
       "    </tr>\n",
       "    <tr>\n",
       "      <th>2</th>\n",
       "      <td>28182</td>\n",
       "      <td>2018-01-11 18:44:45</td>\n",
       "      <td>16865</td>\n",
       "      <td>2018-01-12 02:46:01</td>\n",
       "      <td>200</td>\n",
       "      <td>purchase</td>\n",
       "    </tr>\n",
       "    <tr>\n",
       "      <th>3</th>\n",
       "      <td>28207</td>\n",
       "      <td>2018-01-11 21:10:51</td>\n",
       "      <td>16867</td>\n",
       "      <td>2018-01-12 21:00:24</td>\n",
       "      <td>150</td>\n",
       "      <td>purchase</td>\n",
       "    </tr>\n",
       "    <tr>\n",
       "      <th>4</th>\n",
       "      <td>28254</td>\n",
       "      <td>2018-01-12 16:48:24</td>\n",
       "      <td>16892</td>\n",
       "      <td>2018-01-19 22:08:40</td>\n",
       "      <td>50</td>\n",
       "      <td>purchase</td>\n",
       "    </tr>\n",
       "  </tbody>\n",
       "</table>\n",
       "</div>"
      ],
      "text/plain": [
       "   user_id choice_level_start_time  purchase_id   purchase_datetime  amount  \\\n",
       "0    27884     2018-01-04 16:18:39        16854 2018-01-08 19:37:34     150   \n",
       "1    28090     2018-01-09 21:34:23        16873 2018-01-15 23:42:55     100   \n",
       "2    28182     2018-01-11 18:44:45        16865 2018-01-12 02:46:01     200   \n",
       "3    28207     2018-01-11 21:10:51        16867 2018-01-12 21:00:24     150   \n",
       "4    28254     2018-01-12 16:48:24        16892 2018-01-19 22:08:40      50   \n",
       "\n",
       "  event_type  \n",
       "0   purchase  \n",
       "1   purchase  \n",
       "2   purchase  \n",
       "3   purchase  \n",
       "4   purchase  "
      ]
     },
     "execution_count": 216,
     "metadata": {},
     "output_type": "execute_result"
    }
   ],
   "source": [
    "#Объединим датафрейм категории пользователей с датафреймом покупок данной категории\n",
    "merged_easy_purch_2df = easy_level_df.merge(purchase_easy_level, on=\"user_id\", how=\"inner\")\n",
    "merged_medium_purch_2df = medium_level_df.merge(purchase_medium_level, on=\"user_id\", how=\"inner\")\n",
    "merged_hard_purch_2df = hard_level_df.merge(purchase_hard_level, on=\"user_id\", how=\"inner\")\n",
    "# Посмотрим на результат объединения\n",
    "merged_easy_purch_2df.head()"
   ]
  },
  {
   "cell_type": "code",
   "execution_count": 217,
   "metadata": {},
   "outputs": [
    {
     "data": {
      "text/html": [
       "<div>\n",
       "<style scoped>\n",
       "    .dataframe tbody tr th:only-of-type {\n",
       "        vertical-align: middle;\n",
       "    }\n",
       "\n",
       "    .dataframe tbody tr th {\n",
       "        vertical-align: top;\n",
       "    }\n",
       "\n",
       "    .dataframe thead th {\n",
       "        text-align: right;\n",
       "    }\n",
       "</style>\n",
       "<table border=\"1\" class=\"dataframe\">\n",
       "  <thead>\n",
       "    <tr style=\"text-align: right;\">\n",
       "      <th></th>\n",
       "      <th>user_id</th>\n",
       "      <th>choice_level_start_time</th>\n",
       "      <th>purchase_id</th>\n",
       "      <th>purchase_datetime</th>\n",
       "      <th>amount</th>\n",
       "      <th>event_type</th>\n",
       "      <th>timedelta</th>\n",
       "    </tr>\n",
       "  </thead>\n",
       "  <tbody>\n",
       "    <tr>\n",
       "      <th>0</th>\n",
       "      <td>27884</td>\n",
       "      <td>2018-01-04 16:18:39</td>\n",
       "      <td>16854</td>\n",
       "      <td>2018-01-08 19:37:34</td>\n",
       "      <td>150</td>\n",
       "      <td>purchase</td>\n",
       "      <td>4 days 03:18:55</td>\n",
       "    </tr>\n",
       "    <tr>\n",
       "      <th>1</th>\n",
       "      <td>28090</td>\n",
       "      <td>2018-01-09 21:34:23</td>\n",
       "      <td>16873</td>\n",
       "      <td>2018-01-15 23:42:55</td>\n",
       "      <td>100</td>\n",
       "      <td>purchase</td>\n",
       "      <td>6 days 02:08:32</td>\n",
       "    </tr>\n",
       "    <tr>\n",
       "      <th>2</th>\n",
       "      <td>28182</td>\n",
       "      <td>2018-01-11 18:44:45</td>\n",
       "      <td>16865</td>\n",
       "      <td>2018-01-12 02:46:01</td>\n",
       "      <td>200</td>\n",
       "      <td>purchase</td>\n",
       "      <td>0 days 08:01:16</td>\n",
       "    </tr>\n",
       "    <tr>\n",
       "      <th>3</th>\n",
       "      <td>28207</td>\n",
       "      <td>2018-01-11 21:10:51</td>\n",
       "      <td>16867</td>\n",
       "      <td>2018-01-12 21:00:24</td>\n",
       "      <td>150</td>\n",
       "      <td>purchase</td>\n",
       "      <td>0 days 23:49:33</td>\n",
       "    </tr>\n",
       "    <tr>\n",
       "      <th>4</th>\n",
       "      <td>28254</td>\n",
       "      <td>2018-01-12 16:48:24</td>\n",
       "      <td>16892</td>\n",
       "      <td>2018-01-19 22:08:40</td>\n",
       "      <td>50</td>\n",
       "      <td>purchase</td>\n",
       "      <td>7 days 05:20:16</td>\n",
       "    </tr>\n",
       "  </tbody>\n",
       "</table>\n",
       "</div>"
      ],
      "text/plain": [
       "   user_id choice_level_start_time  purchase_id   purchase_datetime  amount  \\\n",
       "0    27884     2018-01-04 16:18:39        16854 2018-01-08 19:37:34     150   \n",
       "1    28090     2018-01-09 21:34:23        16873 2018-01-15 23:42:55     100   \n",
       "2    28182     2018-01-11 18:44:45        16865 2018-01-12 02:46:01     200   \n",
       "3    28207     2018-01-11 21:10:51        16867 2018-01-12 21:00:24     150   \n",
       "4    28254     2018-01-12 16:48:24        16892 2018-01-19 22:08:40      50   \n",
       "\n",
       "  event_type       timedelta  \n",
       "0   purchase 4 days 03:18:55  \n",
       "1   purchase 6 days 02:08:32  \n",
       "2   purchase 0 days 08:01:16  \n",
       "3   purchase 0 days 23:49:33  \n",
       "4   purchase 7 days 05:20:16  "
      ]
     },
     "execution_count": 217,
     "metadata": {},
     "output_type": "execute_result"
    }
   ],
   "source": [
    "# Находим разницу во времени\n",
    "merged_easy_purch_2df[\"timedelta\"] = (merged_easy_purch_2df[\"purchase_datetime\"] - merged_easy_purch_2df[\"choice_level_start_time\"])\n",
    "merged_medium_purch_2df[\"timedelta\"] = (merged_medium_purch_2df[\"purchase_datetime\"] - merged_medium_purch_2df[\"choice_level_start_time\"])\n",
    "merged_hard_purch_2df[\"timedelta\"] = (merged_hard_purch_2df[\"purchase_datetime\"] - merged_hard_purch_2df[\"choice_level_start_time\"]\n",
    ")\n",
    "merged_easy_purch_2df.head()"
   ]
  },
  {
   "cell_type": "code",
   "execution_count": 218,
   "metadata": {},
   "outputs": [
    {
     "name": "stdout",
     "output_type": "stream",
     "text": [
      "Среднее время между выбором уровня сложности easy и покупкой вопросов:  3 days 14:58:52.941798941\n",
      "Среднее время между выбором уровня сложности medium и покупкой вопросов:  3 days 23:14:13.165118679\n",
      "Среднее время между выбором уровня сложности hard и покупкой вопросов:  3 days 07:20:41.420814479\n"
     ]
    }
   ],
   "source": [
    "# Находим среднее значение\n",
    "merged_easy_purch_2df[\"timedelta\"].mean()\n",
    "merged_medium_purch_2df[\"timedelta\"].mean()\n",
    "merged_hard_purch_2df[\"timedelta\"].mean()\n",
    "print('Среднее время между выбором уровня сложности easy и покупкой вопросов: ',merged_easy_purch_2df[\"timedelta\"].mean())\n",
    "print('Среднее время между выбором уровня сложности medium и покупкой вопросов: ',merged_medium_purch_2df[\"timedelta\"].mean())\n",
    "print('Среднее время между выбором уровня сложности hard и покупкой вопросов: ',merged_hard_purch_2df[\"timedelta\"].mean())"
   ]
  },
  {
   "cell_type": "markdown",
   "metadata": {},
   "source": [
    "Разницы во времени между выбором уровня сложности и покупкой вопросов нет. Покупка совершается в среднем через три дня после выбора уровня сложности"
   ]
  }
 ],
 "metadata": {
  "interpreter": {
   "hash": "4e052d4e0222e7fe77152d0a9dc2d2af05426cb5296a6b56fda7b6c53ad5778b"
  },
  "kernelspec": {
   "display_name": "Python 3.9.7 64-bit",
   "language": "python",
   "name": "python3"
  },
  "language_info": {
   "codemirror_mode": {
    "name": "ipython",
    "version": 3
   },
   "file_extension": ".py",
   "mimetype": "text/x-python",
   "name": "python",
   "nbconvert_exporter": "python",
   "pygments_lexer": "ipython3",
   "version": "3.9.7"
  },
  "orig_nbformat": 4
 },
 "nbformat": 4,
 "nbformat_minor": 2
}
